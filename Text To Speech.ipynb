{
 "cells": [
  {
   "cell_type": "markdown",
   "id": "d6781afb",
   "metadata": {},
   "source": [
    "# Google Text To Speech API"
   ]
  },
  {
   "cell_type": "code",
   "execution_count": 1,
   "id": "394cbbbf",
   "metadata": {},
   "outputs": [
    {
     "name": "stdout",
     "output_type": "stream",
     "text": [
      "Collecting gTTS\n",
      "  Downloading gTTS-2.3.2-py3-none-any.whl (28 kB)\n",
      "Requirement already satisfied: requests<3,>=2.27 in c:\\users\\user\\anaconda31\\lib\\site-packages (from gTTS) (2.28.1)\n",
      "Requirement already satisfied: click<8.2,>=7.1 in c:\\users\\user\\anaconda31\\lib\\site-packages (from gTTS) (8.0.4)\n",
      "Requirement already satisfied: colorama in c:\\users\\user\\anaconda31\\lib\\site-packages (from click<8.2,>=7.1->gTTS) (0.4.6)\n",
      "Requirement already satisfied: charset-normalizer<3,>=2 in c:\\users\\user\\anaconda31\\lib\\site-packages (from requests<3,>=2.27->gTTS) (2.0.4)\n",
      "Requirement already satisfied: certifi>=2017.4.17 in c:\\users\\user\\anaconda31\\lib\\site-packages (from requests<3,>=2.27->gTTS) (2023.5.7)\n",
      "Requirement already satisfied: idna<4,>=2.5 in c:\\users\\user\\anaconda31\\lib\\site-packages (from requests<3,>=2.27->gTTS) (3.4)\n",
      "Requirement already satisfied: urllib3<1.27,>=1.21.1 in c:\\users\\user\\anaconda31\\lib\\site-packages (from requests<3,>=2.27->gTTS) (1.26.14)\n",
      "Installing collected packages: gTTS\n",
      "Successfully installed gTTS-2.3.2\n"
     ]
    }
   ],
   "source": [
    "# install the modules\n",
    "!pip install gTTS"
   ]
  },
  {
   "cell_type": "code",
   "execution_count": 3,
   "id": "8be8b3c1",
   "metadata": {},
   "outputs": [
    {
     "data": {
      "text/plain": [
       "0"
      ]
     },
     "execution_count": 3,
     "metadata": {},
     "output_type": "execute_result"
    }
   ],
   "source": [
    "from gtts import gTTS\n",
    "import os\n",
    "\n",
    "text = 'We are not your kind'\n",
    "\n",
    "# convert text to speech\n",
    "text_to_speech = gTTS(text = text, lang = 'en', )\n",
    "\n",
    "# save the audio file\n",
    "text_to_speech.save('test.mp3')\n",
    "\n",
    "# play the audio\n",
    "os.system('test.mp3')"
   ]
  },
  {
   "cell_type": "markdown",
   "id": "e229940e",
   "metadata": {},
   "source": [
    "# Pyttsx - Offline"
   ]
  },
  {
   "cell_type": "code",
   "execution_count": 5,
   "id": "5c5d14c0",
   "metadata": {},
   "outputs": [
    {
     "name": "stdout",
     "output_type": "stream",
     "text": [
      "Collecting pyttsx3\n",
      "  Downloading pyttsx3-2.90-py3-none-any.whl (39 kB)\n",
      "Collecting pypiwin32\n",
      "  Downloading pypiwin32-223-py3-none-any.whl (1.7 kB)\n",
      "Collecting comtypes\n",
      "  Downloading comtypes-1.2.0-py2.py3-none-any.whl (184 kB)\n",
      "     ------------------------------------ 184.3/184.3 kB 483.5 kB/s eta 0:00:00\n",
      "Requirement already satisfied: pywin32 in c:\\users\\user\\anaconda31\\lib\\site-packages (from pyttsx3) (305.1)\n",
      "Installing collected packages: comtypes, pypiwin32, pyttsx3\n",
      "Successfully installed comtypes-1.2.0 pypiwin32-223 pyttsx3-2.90\n"
     ]
    }
   ],
   "source": [
    "# install the module\n",
    "!pip install pyttsx3"
   ]
  },
  {
   "cell_type": "code",
   "execution_count": 13,
   "id": "f1589e18",
   "metadata": {},
   "outputs": [],
   "source": [
    "# import the module\n",
    "import pyttsx3\n",
    "\n",
    "# input\n",
    "text = 'We are not your kind'\n",
    "\n",
    "# initialize the module\n",
    "text_to_speech = pyttsx3.init()\n",
    "\n",
    "# adjust the speed \n",
    "text_to_speech.setProperty('rate', 150)\n",
    "\n",
    "# change the voice\n",
    "voices = text_to_speech.getProperty('voices')\n",
    "text_to_speech.setProperty('voice', voices[1].id) # 0 for male voice and 1 for female voice\n",
    "\n",
    "# convert text to speech\n",
    "text_to_speech.say(text)\n",
    "\n",
    "# save the audio file\n",
    "text_to_speech.save_to_file(text, 'test0.mp3')\n",
    "\n",
    "# listen the audio\n",
    "text_to_speech.runAndWait()"
   ]
  },
  {
   "cell_type": "code",
   "execution_count": null,
   "id": "3c1c8d7e",
   "metadata": {},
   "outputs": [],
   "source": []
  }
 ],
 "metadata": {
  "kernelspec": {
   "display_name": "Python 3 (ipykernel)",
   "language": "python",
   "name": "python3"
  },
  "language_info": {
   "codemirror_mode": {
    "name": "ipython",
    "version": 3
   },
   "file_extension": ".py",
   "mimetype": "text/x-python",
   "name": "python",
   "nbconvert_exporter": "python",
   "pygments_lexer": "ipython3",
   "version": "3.10.9"
  }
 },
 "nbformat": 4,
 "nbformat_minor": 5
}
